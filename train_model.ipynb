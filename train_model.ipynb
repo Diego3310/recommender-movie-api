{
 "cells": [
  {
   "cell_type": "code",
   "execution_count": 7,
   "metadata": {},
   "outputs": [],
   "source": [
    "#Importando Librerias\r\n",
    "import pandas as pd\r\n",
    "import numpy as np\r\n",
    "%matplotlib inline\r\n",
    "from matplotlib import pyplot as plt\r\n",
    "from sklearn.neighbors import NearestNeighbors\r\n",
    "from scipy.sparse import csr_matrix\r\n",
    "from pandas.api.types import CategoricalDtype\r\n",
    "import pickle\r\n",
    "import time\r\n"
   ]
  },
  {
   "cell_type": "code",
   "execution_count": 8,
   "metadata": {},
   "outputs": [],
   "source": [
    "#Constants\r\n",
    "PATH_RATINGS_DF = \"static/data/ratings.csv\"\r\n",
    "PATH_MOVIES_DF = \"static/data/movies.csv\""
   ]
  },
  {
   "cell_type": "code",
   "execution_count": 9,
   "metadata": {},
   "outputs": [
    {
     "name": "stdout",
     "output_type": "stream",
     "text": [
      "Creando Dataframe Ratings....\n",
      "Dataframe Ratings creado en:  0.014435768127441406 sec\n",
      "Creando Dataframe Movies....\n",
      "Dataframe Movies creado en:  0.014435768127441406 sec\n"
     ]
    }
   ],
   "source": [
    "\r\n",
    "\r\n",
    "print('Creando Dataframe Ratings....')\r\n",
    "start_ratings_ds = time.time()\r\n",
    "chunk_rating = pd.read_csv(PATH_RATINGS_DF,chunksize=1000000 ,\r\n",
    "    usecols=['userId', 'movieId', 'rating'],\r\n",
    "    dtype={'userId': 'int32', 'movieId': 'int32', 'rating': 'float32'})\r\n",
    "end_ratings_ds = time.time()\r\n",
    "df_ratings = pd.concat(chunk_rating)\r\n",
    "print(\"Dataframe Ratings creado en: \",(end_ratings_ds-start_ratings_ds),\"sec\")\r\n",
    "\r\n",
    "print('Creando Dataframe Movies....')\r\n",
    "start_movies_ds = time.time()\r\n",
    "chunk_movie = pd.read_csv(PATH_MOVIES_DF,chunksize=1000000,\r\n",
    "    usecols=['movieId', 'title',\"genres\"],\r\n",
    "    dtype={'movieId': 'int32', 'title': 'str',\"genres\":\"str\"})\r\n",
    "end_movies_ds = time.time()\r\n",
    "df_movies = pd.concat(chunk_movie)\r\n",
    "print(\"Dataframe Movies creado en: \",(end_ratings_ds-start_ratings_ds),\"sec\")\r\n"
   ]
  },
  {
   "cell_type": "code",
   "execution_count": 10,
   "metadata": {},
   "outputs": [
    {
     "name": "stdout",
     "output_type": "stream",
     "text": [
      "<class 'pandas.core.frame.DataFrame'>\n",
      "RangeIndex: 58098 entries, 0 to 58097\n",
      "Data columns (total 3 columns):\n",
      " #   Column   Non-Null Count  Dtype \n",
      "---  ------   --------------  ----- \n",
      " 0   movieId  58098 non-null  int32 \n",
      " 1   title    58098 non-null  object\n",
      " 2   genres   58098 non-null  object\n",
      "dtypes: int32(1), object(2)\n",
      "memory usage: 1.1+ MB\n"
     ]
    }
   ],
   "source": [
    "#Información del dataframe Movies\r\n",
    "df_movies.info()"
   ]
  },
  {
   "cell_type": "code",
   "execution_count": 11,
   "metadata": {},
   "outputs": [
    {
     "name": "stdout",
     "output_type": "stream",
     "text": [
      "<class 'pandas.core.frame.DataFrame'>\n",
      "RangeIndex: 27753444 entries, 0 to 27753443\n",
      "Data columns (total 3 columns):\n",
      " #   Column   Dtype  \n",
      "---  ------   -----  \n",
      " 0   userId   int32  \n",
      " 1   movieId  int32  \n",
      " 2   rating   float32\n",
      "dtypes: float32(1), int32(2)\n",
      "memory usage: 317.6 MB\n"
     ]
    }
   ],
   "source": [
    "#Información del dataframe de Ratings\r\n",
    "df_ratings.info() "
   ]
  },
  {
   "cell_type": "code",
   "execution_count": null,
   "metadata": {},
   "outputs": [],
   "source": [
    "#Visualizando datos del dataframe Ratings\r\n",
    "df_ratings.head()"
   ]
  },
  {
   "cell_type": "code",
   "execution_count": null,
   "metadata": {},
   "outputs": [],
   "source": [
    "sorted(df_ratings['rating'].unique()) #Listado de ratings en orden ascendente"
   ]
  },
  {
   "cell_type": "code",
   "execution_count": null,
   "metadata": {},
   "outputs": [],
   "source": [
    "df_ratings.groupby(['rating'])['userId'].count() # Agrupación de rating por usuario"
   ]
  },
  {
   "cell_type": "code",
   "execution_count": null,
   "metadata": {},
   "outputs": [],
   "source": [
    "plt.hist(df_ratings['rating'],bins=10)"
   ]
  },
  {
   "cell_type": "code",
   "execution_count": null,
   "metadata": {},
   "outputs": [],
   "source": [
    "#Inspeccionar Data\r\n",
    "n_users = df_ratings['userId'].unique().shape[0]\r\n",
    "n_movies = df_ratings['movieId'].unique().shape[0]\r\n",
    "n_ratings = df_ratings.shape[0]\r\n",
    "ratings_per_user = n_ratings/n_users\r\n",
    "\r\n",
    "\r\n",
    "print('Usuario: {}'.format(n_users))\r\n",
    "print('Peliculas: {}'.format(n_movies))\r\n",
    "print('Ratings: {}'.format(n_ratings))\r\n",
    "print('Ratings por usuario: {}'.format(ratings_per_user))\r\n"
   ]
  },
  {
   "cell_type": "code",
   "execution_count": 12,
   "metadata": {},
   "outputs": [
    {
     "name": "stdout",
     "output_type": "stream",
     "text": [
      "Creando matrix movie/user...\n",
      "Matrix creada\n"
     ]
    }
   ],
   "source": [
    "print('Creando matrix movie/user...')\r\n",
    "\r\n",
    "\r\n",
    "movie_categ = CategoricalDtype(sorted(df_ratings['movieId'].unique()),ordered=True)\r\n",
    "user_categ = CategoricalDtype(sorted(df_ratings['userId'].unique()),ordered=True)\r\n",
    "\r\n",
    "#CSR MATRIX\r\n",
    "row = df_ratings['movieId'].astype(movie_categ).cat.codes\r\n",
    "col = df_ratings['userId'].astype(user_categ).cat.codes\r\n",
    "\r\n",
    "data = df_ratings['rating'].values\r\n",
    "\r\n",
    "df_csr = csr_matrix((data,(row,col)),shape=(movie_categ.categories.size,\r\n",
    "                                            user_categ.categories.size))\r\n",
    "\r\n",
    "print('Matrix creada')\r\n"
   ]
  },
  {
   "cell_type": "code",
   "execution_count": 15,
   "metadata": {},
   "outputs": [
    {
     "name": "stdout",
     "output_type": "stream",
     "text": [
      "Creando Modelo...\n",
      "Modelo creado\n"
     ]
    }
   ],
   "source": [
    "print('Creando Modelo...')\r\n",
    "#Coseno , buscar los elementos mas cercanos, teniendo en cuenta el valor del coseno\r\n",
    "# En caso los elementos sean similares los va agrupar haciendo clusters diferentes\r\n",
    "model_knn = NearestNeighbors(metric='cosine',algorithm='brute')\r\n",
    "model_knn.fit(df_csr)\r\n",
    "print('Modelo creado')\r\n",
    "\r\n",
    "print('Serializando modelo....')\r\n",
    "pickle.dump(model_knn, open('static/model/knn_model.pickle', 'wb')) #Guardar modelo serializado\r\n",
    "print('Modelo serializado guardado')\r\n"
   ]
  },
  {
   "cell_type": "markdown",
   "metadata": {},
   "source": []
  },
  {
   "cell_type": "code",
   "execution_count": 16,
   "metadata": {},
   "outputs": [
    {
     "name": "stdout",
     "output_type": "stream",
     "text": [
      "Movie Id: 4369 - Matrix index: 4275\n",
      "Recommendations for Fast and the Furious, The (2001):\n",
      "\n",
      "1: 53.6% :: 2 Fast 2 Furious (Fast and the Furious 2, The) (2003) - Action|Crime|Thriller\n",
      "2: 56.5% :: xXx (2002) - Action|Crime|Thriller\n",
      "3: 57.3% :: Gone in 60 Seconds (2000) - Action|Crime\n",
      "4: 60.1% :: Lara Croft: Tomb Raider (2001) - Action|Adventure\n",
      "5: 60.1% :: Fast and the Furious: Tokyo Drift, The (Fast and the Furious 3, The) (2006) - Action|Crime|Drama|Thriller\n"
     ]
    }
   ],
   "source": [
    "\r\n",
    "#Crear sistema de recomendación , Collaborative Filtering Item\r\n",
    "\r\n",
    "def recommender_movie(movie_id,n_results = 5):\r\n",
    "    \r\n",
    "    # Ubicar indice de la fila\r\n",
    "\r\n",
    "    query_index = movie_categ.categories.get_loc(movie_id)\r\n",
    "    \r\n",
    "    print('Movie Id: {0} - Matrix index: {1}'.format(movie_id,query_index))\r\n",
    "\r\n",
    "    query_vector = df_csr[query_index]\r\n",
    "    \r\n",
    "    n_results += 1\r\n",
    "    distances, indices = model_knn.kneighbors(query_vector,n_neighbors=n_results)\r\n",
    "\r\n",
    "\r\n",
    "    for i in range(0,len(distances.flatten())):\r\n",
    "        if i == 0:\r\n",
    "        \r\n",
    "            movie = df_movies[df_movies['movieId']==movie_id]\r\n",
    "            print('Recommendations for {0}:\\n'.format(movie['title'].values[0]))\r\n",
    "\r\n",
    "\r\n",
    "        else:\r\n",
    "    \r\n",
    "            idx = movie_categ.categories[indices.flatten()[i]]\r\n",
    "         \r\n",
    "            movie = df_movies[df_movies['movieId']==idx]\r\n",
    "            movie_title = movie['title'].values[0]\r\n",
    "            movie_genres = movie['genres'].values[0]\r\n",
    "            \r\n",
    "         \r\n",
    "            movie_dist = distances.flatten()[i] *100\r\n",
    "    \r\n",
    "            print('{0}: {1:4.1f}% :: {2} - {3}'.format(i,movie_dist,movie_title,movie_genres))\r\n",
    "             \r\n",
    "      \r\n",
    "recommender_movie(4369,5)"
   ]
  }
 ],
 "metadata": {
  "interpreter": {
   "hash": "f96c6cd30858f305251df540fc102eb0579feef54a7ac0697c6850900ca1377b"
  },
  "kernelspec": {
   "display_name": "Python 3.8.0 64-bit ('flask_env': venv)",
   "name": "python3"
  },
  "language_info": {
   "codemirror_mode": {
    "name": "ipython",
    "version": 3
   },
   "file_extension": ".py",
   "mimetype": "text/x-python",
   "name": "python",
   "nbconvert_exporter": "python",
   "pygments_lexer": "ipython3",
   "version": "3.8.0"
  }
 },
 "nbformat": 4,
 "nbformat_minor": 5
}